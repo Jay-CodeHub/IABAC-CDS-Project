{
 "cells": [
  {
   "cell_type": "markdown",
   "id": "d3f499b9-68f1-4426-b6f1-b8673c3bc626",
   "metadata": {},
   "source": [
    "# PROJECT SUMMARY:"
   ]
  },
  {
   "cell_type": "markdown",
   "id": "26410b65-809e-4999-a7fe-9f531d5e3cfd",
   "metadata": {},
   "source": [
    "## BUISNESSCASE & GOAL OF PROJECT: BASED ON GIVEN FEATURE OF DATASET WE NEED TO PREDICT THE PERFOMANCE RATING OF EMPLOYEE"
   ]
  },
  {
   "cell_type": "markdown",
   "id": "5c394b92-13d9-4c7c-b1ea-3a6f651dffb5",
   "metadata": {},
   "source": [
    "### INX Future Inc Employee Performance - Project"
   ]
  },
  {
   "cell_type": "markdown",
   "id": "43b34eb6-6b6a-4ded-ab73-6d72ba0e767d",
   "metadata": {},
   "source": [
    "The Data science project which is given here is an analysis of employee performance."
   ]
  },
  {
   "cell_type": "markdown",
   "id": "39b827f1-fd5e-4bd8-b0db-0de0a8892782",
   "metadata": {},
   "source": [
    "**The Goal and Insights of the project are as follows:**"
   ]
  },
  {
   "cell_type": "markdown",
   "id": "fa72f774-6385-4b42-a457-895d71b08f85",
   "metadata": {},
   "source": [
    "->Department wise performances.\n",
    "\n",
    "->Top 3 Important Factors effecting employee performance.\n",
    "\n",
    "->A trained model which can predict the employee performance based on factors as inputs. This will be used to hire employees.\n",
    "\n",
    "->Recommendations to improve the employee performance based on insights from analysis."
   ]
  },
  {
   "cell_type": "markdown",
   "id": "0f39f990-45af-4725-a646-faef4051e585",
   "metadata": {},
   "source": [
    "The Employee dataset consists of 1,200 rows and 28 columns, which are categorized into quantitative and qualitative features. Among them, 19 features are quantitative—including 11 numerical and 8 ordinal variables—while 8 features are qualitative. The EmpNumber column, which contains unique alphanumeric values, was excluded from the analysis as it does not contribute to predicting performance ratings.\n",
    "\n",
    "To gain insights from the data, correlation analysis was performed to identify relationships between various features and the target variable, Performance Rating. Correlation helps measure the linear relationship between two variables, which aids in feature selection. The project followed a structured approach, including univariate, bivariate, and multivariate analysis, along with department-wise analysis to achieve the project goals.\n",
    "\n",
    "Since the dataset contains both categorical and numerical data, and the target variable is ordinal, this is a classification problem. Several machine learning models were implemented, including Support Vector Classifier, Random Forest Classifier, and Artificial Neural Network (Multilayer Perceptron - MLP). Among these, the Artificial Neural Network (MLP) achieved the highest accuracy of 97%, making it the most effective model.\n",
    "\n",
    "A key objective of this project was to identify the most influential features affecting performance ratings. Feature importance was determined using machine learning-based feature selection techniques. In the preprocessing stage, manual and frequency encoding were applied to convert categorical data into numerical format, as most machine learning algorithms rely on numerical computations and cannot process string-based values directly."
   ]
  },
  {
   "cell_type": "markdown",
   "id": "cd08c36a-b506-41e0-9081-132319cb979f",
   "metadata": {},
   "source": [
    "# 1. Requirement"
   ]
  },
  {
   "cell_type": "markdown",
   "id": "c8edc945-4514-4e33-ae8e-7fe745ddafe1",
   "metadata": {},
   "source": [
    "The data was given from the IABAC for this project where the collected source is IABAC™. The data is based on INX Future Inc, (referred as INX ). It is one of the leading data analytics and automation solutions provider with over 15 years of global business presence. INX is consistently rated as top 20 best employers past 5 years. The data is not from the real organization. The whole project was done in Jupiter notebook with python platform."
   ]
  },
  {
   "cell_type": "markdown",
   "id": "fce3c928-6bbe-452e-a1ae-af4f71a217d8",
   "metadata": {},
   "source": [
    "# 2. Analysis"
   ]
  },
  {
   "cell_type": "markdown",
   "id": "d2565901-df08-48cc-8ecc-0d1820bd0901",
   "metadata": {},
   "source": [
    "Data were analyzed by describing the features present in the data. the features play the bigger part in the analysis. The features tell the relation between the dependent and independent variables. Pandas also help to describe the datasets answering following questions early in our project. The data present in the dataset are divided into numerical and categorical data.M"
   ]
  },
  {
   "cell_type": "markdown",
   "id": "1cb2da02-5faa-4d8f-8f3f-f6d32da941b5",
   "metadata": {},
   "source": [
    "### BASIC CHECKS & STATISTICAL MEASURES"
   ]
  },
  {
   "cell_type": "markdown",
   "id": "b520484c-4501-4040-bd1a-964b09a9fb91",
   "metadata": {},
   "source": [
    "Their is no constant column is present in Numerical as well as categoriacl data."
   ]
  },
  {
   "cell_type": "markdown",
   "id": "7a66ac8f-0e35-4703-90bb-46d1540cbe84",
   "metadata": {},
   "source": [
    "### Basic Check & Statistical Measures"
   ]
  },
  {
   "cell_type": "markdown",
   "id": "fb5c3bd6-bbc8-4633-8681-11d3097d3e54",
   "metadata": {},
   "source": [
    "### Categorical Features"
   ]
  },
  {
   "cell_type": "markdown",
   "id": "b49c8297-637b-4b0d-bf6f-2d98ab405b31",
   "metadata": {},
   "source": [
    "1.EmpNumber\n",
    "\n",
    "2.Gender\n",
    "\n",
    "3.EducationBackground \n",
    "\n",
    "4.MaritalStatus\n",
    "\n",
    "5.EmpDepartment\n",
    "\n",
    "6.EmpJobRole\n",
    "\n",
    "7.BusinessTravelFrequency\n",
    "\n",
    "8.OverTime\n",
    "\n",
    "9.Attrition"
   ]
  },
  {
   "cell_type": "markdown",
   "id": "36e08f44-d25c-4fc8-9099-45697d6ea465",
   "metadata": {},
   "source": [
    "### Numerical Features"
   ]
  },
  {
   "cell_type": "markdown",
   "id": "908c04e3-6f74-4a1d-89c9-76cd8d4e0882",
   "metadata": {},
   "source": [
    "1.Age\n",
    "\n",
    "2.DistanceFromHome\n",
    "\n",
    "3.EmpHourlyRate \n",
    "\n",
    "4.NumCompaniesWorked\n",
    "\n",
    "5.EmpLastSalaryHikePercent\n",
    "\n",
    "6.TotalWorkExperienceInYears\n",
    "\n",
    "7.TrainingTimesLastYear\n",
    "\n",
    "8.ExperienceYearsAtThisCompany\n",
    "\n",
    "9.ExperienceYearsInCurrentRole\n",
    "\n",
    "10.YearsSinceLastPromotion\n",
    "\n",
    "11.YearsWithCurrManager"
   ]
  },
  {
   "cell_type": "markdown",
   "id": "6bb834a0-9048-4631-af78-afea599bf7a0",
   "metadata": {},
   "source": [
    "### Ordinal Features"
   ]
  },
  {
   "cell_type": "markdown",
   "id": "4512b448-0c44-47d3-abc6-b852e7e13b7f",
   "metadata": {},
   "source": [
    "1.EmpEducationLevel\n",
    "\n",
    "2.EmpEnvironmentSatisfaction\n",
    "\n",
    "3.EmpJobInvolvement\n",
    "\n",
    "4.EmpJobLevel\n",
    "\n",
    "5.EmpJobSatisfaction\n",
    "\n",
    "6.EmpRelationshipSatisfaction\n",
    "\n",
    "7.EmpWorkLifeBalance\n",
    "\n",
    "8.PerformanceRating"
   ]
  },
  {
   "cell_type": "markdown",
   "id": "0e0aa7be-5f72-4eb6-ad3f-48233967c9ec",
   "metadata": {},
   "source": [
    "# 3.EDA"
   ]
  },
  {
   "cell_type": "markdown",
   "id": "c9102744-42d6-45e5-a7a6-5ff071934896",
   "metadata": {},
   "source": [
    "For Univariate and Bivariate analysis Seaborn,Matplotlib libraries are used.\n",
    "1.Pie chats\n",
    "\n",
    "2.histogram\n",
    "\n",
    "3.boxplots\n",
    "\n",
    "4.barcharts\n",
    "\n",
    "5.countplots\n"
   ]
  },
  {
   "cell_type": "markdown",
   "id": "6f5c2cc0-bfea-4485-aba9-73e48e79e27d",
   "metadata": {},
   "source": [
    "### Univariate & Bivariate "
   ]
  },
  {
   "cell_type": "markdown",
   "id": "94a0a1f7-034c-48ec-8514-ae1f92afaa34",
   "metadata": {},
   "source": [
    "**Univariate Analysis:** In univariate analysis we get the unique labels of categorical features, as well as get the range & density of numbers.\n",
    "\n",
    "**Bivariate Analysis:** In bivariate analysis we check the feature relationship with target variable."
   ]
  },
  {
   "cell_type": "markdown",
   "id": "a6786325-5155-4333-9e15-3c4752f860e2",
   "metadata": {},
   "source": [
    "### CONCLUSION"
   ]
  },
  {
   "cell_type": "markdown",
   "id": "cfb592d0-7f6e-4e28-9aa3-b8b47d6f6bfc",
   "metadata": {},
   "source": [
    "There are some features are positively correlated with performance rating( Target variable) [Emp Environment Satisfaction,Emp Last Salary Hike Percent,Emp Work Life Balance]"
   ]
  },
  {
   "cell_type": "markdown",
   "id": "4d6d8167-c2df-410c-90bf-8f2374e7682b",
   "metadata": {},
   "source": [
    "# 4.Data Pre-Processing"
   ]
  },
  {
   "cell_type": "markdown",
   "id": "18229705-e6dd-4c90-8f05-dbf619b0c08a",
   "metadata": {},
   "source": [
    "**1.Check Missing Value:** Their is no missing value in data"
   ]
  },
  {
   "cell_type": "markdown",
   "id": "7d19f15d-0903-44e2-9007-3ca7cff6885e",
   "metadata": {},
   "source": [
    "**2.Categorical Data Conversion:** Handel categorical data with the help of frequency and mannual encoding, because feature is contain lot's of labels.\n",
    "\n",
    "Mannual Encoding: Mannual encoding is a best techinque to handel categorical feature with the help of map function, map the labels based on frequency.\n",
    "\n",
    "Frequency Encoding: Frequency encoding is an encoding technique to transform an original categorical variable to a numerical variable by considering the frequency distribution of the data getting value counts."
   ]
  },
  {
   "cell_type": "markdown",
   "id": "35ea26b9-a899-49c3-b07a-51dde003596c",
   "metadata": {},
   "source": [
    "**3.Outlier Handling:** Some features are contain outliers so we are impute this outlier with the help of IQR because in all features data is not normally distributed"
   ]
  },
  {
   "cell_type": "markdown",
   "id": "c431c703-8592-4703-96e3-490d62d6840b",
   "metadata": {},
   "source": [
    "**4.Feature Transformation:** In YearsSinceLastPromotion some skewed & kurtosis is present, so we are use Square Root Transformation techinque\n",
    "\n",
    "Square root transformation: Square root transformation is one of the many types of standard transformations.This transformation is used for count data (data that follow a Poisson distribution) or small whole numbers. Each data point is replaced by its square root. Negative data is converted to positive by adding a constant, and then transformed.\n",
    "Q-Q Plot: Q–Q plot is a probability plot, a graphical method for comparing two probability distributions by plotting their quantiles against each other."
   ]
  },
  {
   "cell_type": "markdown",
   "id": "5dc5d6bf-d04c-4daf-ad17-2a094e1f710b",
   "metadata": {},
   "source": [
    "**5.Scaling The Data:** scaling the data with the help of Standard scalar.\n",
    "\n",
    "Standard Scaling: Standardization is the process of scaling the feature, it assumes the feature follow normal distribution and scale the feature between mean and standard deviation, here mean is 0 and standard deviation is always 1."
   ]
  },
  {
   "cell_type": "markdown",
   "id": "f4480303-1956-4881-9854-d0f01576528b",
   "metadata": {},
   "source": [
    "# 5.Future Selection"
   ]
  },
  {
   "cell_type": "markdown",
   "id": "eecc5a4d-a2d0-405e-9775-65c38804e38e",
   "metadata": {},
   "source": [
    "**1.Drop unique and constant feature:** Dropping employee number because this is a constant column as well as drop Years Since Last Promotion because we create a new feaure using square root transformation"
   ]
  },
  {
   "cell_type": "markdown",
   "id": "057a6627-d47b-4eab-96e8-851070a157ba",
   "metadata": {},
   "source": [
    "**2.Checking Correlation:** Checking correlation with the help of heat map, and get the their is no highly correlated feature is present.\n",
    "\n",
    "Heatmap: A heatmap is a graphical representation of data that uses a system of color-coding to represent different values."
   ]
  },
  {
   "cell_type": "markdown",
   "id": "b15dd893-02b7-4100-a1f4-e86e133e16e9",
   "metadata": {},
   "source": [
    "**3.Check Duplicates:** In this data is no dupicates is present."
   ]
  },
  {
   "cell_type": "markdown",
   "id": "965ef29a-4482-4a8f-9ec2-086260962f08",
   "metadata": {},
   "source": [
    "**4.PCA:** Use pca to reduce the dimension of data, Data is contain total 27 feature after dropping unique and constant column,from PCA it shows the 25 feature has less varaince loss, so we are going to select 25 feature.\n",
    "\n",
    "Principal component analysis (PCA) is a popular technique for analyzing large datasets containing a high number of dimensions/features per observation, increasing the interpretability of data while preserving the maximum amount of information, and enabling the visualization of multidimensional data. Formally, PCA is a statistical technique for reducing the dimensionality of a dataset."
   ]
  },
  {
   "cell_type": "markdown",
   "id": "025564ab-8b5d-4cf6-af50-4c4357faa96d",
   "metadata": {},
   "source": [
    "**5.Saving Pre-Process Data:** save the all preprocess data in new file and add target feature to it."
   ]
  },
  {
   "cell_type": "markdown",
   "id": "368eba7b-1ebc-41d0-928d-896c29aec028",
   "metadata": {},
   "source": [
    "# 6.Machine learning Model Creation & Evaluation"
   ]
  },
  {
   "cell_type": "markdown",
   "id": "1eb561b4-538e-4c6b-b46b-fe9465e66613",
   "metadata": {},
   "source": [
    "**1.Define Dependant and Independant Features**"
   ]
  },
  {
   "cell_type": "markdown",
   "id": "93628db9-698b-4a19-a892-0a2106dd9de0",
   "metadata": {},
   "source": [
    "**2.Balancing the data:** The data is imbalance, so we need to balance the data with the help of SMOTE\n",
    "\n",
    "**SMOTE:** SMOTE (synthetic minority oversampling technique) is one of the most commonly used oversampling methods to solve the imbalance problem. It aims to balance class distribution by randomly increasing minority class examples by replicating them. SMOTE synthesises new minority instances between existing minority instances."
   ]
  },
  {
   "cell_type": "markdown",
   "id": "9141fc6a-1e3d-4e50-bda2-0da7159e2976",
   "metadata": {},
   "source": [
    "**3.Splitting Training And Testing Data:** 80% data use for training & 20% data used for testing"
   ]
  },
  {
   "cell_type": "markdown",
   "id": "c737a8b2-70c1-4279-a285-7969af7db43f",
   "metadata": {},
   "source": [
    "### Algorithms:"
   ]
  },
  {
   "cell_type": "markdown",
   "id": "3a08593d-9723-4fe2-8f74-3013aae7aebc",
   "metadata": {},
   "source": [
    "**AIM:** Create a sweet spot model (Low bias, Low variance)"
   ]
  },
  {
   "cell_type": "markdown",
   "id": "54354333-ed68-44f9-868c-6c67c5486bd5",
   "metadata": {},
   "source": [
    "**HERE WE WILL BE EXPERIMENTING WITH THREE ALGORITHM**"
   ]
  },
  {
   "cell_type": "markdown",
   "id": "39c9e548-ad51-4770-a1b2-bca9f14957c9",
   "metadata": {},
   "source": [
    "**1.Support Vector Machine**\n",
    "\n",
    "**2.Random Forest**\n",
    "\n",
    "**3.Artificial Neural Network [MLP Classifier]**\n",
    "\n",
    "**->** Support vector machine well perform on training data with accuracy 96.61% but the test score is 94.66 after applying Hyperparameter tunning             score is 98.28 means model is overfit.\n",
    "\n",
    "**->** Random forest very well perform in training data with 100% accuracy but in testing 95.61% after doing hyperparameter tunning testing score is          decreases.\n",
    "\n",
    "**->** Artifical neural network[Multilayer percepton] perform very well on training data with 98.95% accuracy and testing score is 95.80%.\n",
    "       So we are select Artifical neuranl network [Multilayer percepton] model."
   ]
  },
  {
   "cell_type": "markdown",
   "id": "ff44a601-0a03-45e5-a8bb-a59e96cfb235",
   "metadata": {},
   "source": [
    "# 7.Saving Model"
   ]
  },
  {
   "cell_type": "markdown",
   "id": "44d000a2-22f6-4921-aa3e-9aa0327006b3",
   "metadata": {},
   "source": [
    "->Save model with the helpof pickle file"
   ]
  },
  {
   "cell_type": "markdown",
   "id": "6c9b2762-7b91-4487-bad2-b0177875abc6",
   "metadata": {},
   "source": [
    "# Tools and Library Used:"
   ]
  },
  {
   "cell_type": "markdown",
   "id": "7c81f74f-0f5c-4117-a0a7-cb21772b38d1",
   "metadata": {},
   "source": [
    "**Tools:** Jupyter"
   ]
  },
  {
   "cell_type": "markdown",
   "id": "49bb714c-7d73-40cd-8d19-8c4234b3fa20",
   "metadata": {},
   "source": [
    "**Library Used:**"
   ]
  },
  {
   "cell_type": "markdown",
   "id": "d9d1398a-117f-4442-9ef5-0426ce780b71",
   "metadata": {},
   "source": [
    "->Pandas\n",
    "\n",
    "->Numpy\n",
    "\n",
    "->Matplotlib\n",
    "\n",
    "->Seaborn\n",
    "\n",
    "->pylab\n",
    "\n",
    "->Scipy\n",
    "\n",
    "->Sklearn\n",
    "\n",
    "->Pickle\n"
   ]
  },
  {
   "cell_type": "markdown",
   "id": "64036512-b17b-49f7-aa27-4f04d10c929a",
   "metadata": {},
   "source": [
    "# Goal 1: Department Wise Performances"
   ]
  },
  {
   "cell_type": "markdown",
   "id": "84739595-58b7-4319-a3b3-161ce0232ae6",
   "metadata": {},
   "source": [
    "### PLOT USED"
   ]
  },
  {
   "cell_type": "markdown",
   "id": "177223c2-8452-4c98-bbd2-6c7b098deac6",
   "metadata": {},
   "source": [
    "**CountPlot:** countplot is used to Show the counts of observations in each categorical bin using bars."
   ]
  },
  {
   "cell_type": "markdown",
   "id": "4332b1b7-046c-41a7-9b33-1a8909ac83d6",
   "metadata": {},
   "source": [
    "**Sales:** The Performace rating level 3 is more in the sales department. The male performance rating the little bit higher compared to female.\n",
    "\n",
    "**Human Resources:** The majority of the employees lying under the level 3 performance . The older people are performing low in this department. The female employees in HR department doing really well in their performance.\n",
    "\n",
    "**Development:** The maximum number of employees are level 3 performers. Employees of all age are performing at the level of 3 only. The gender-based performance is nearly same for both.\n",
    "\n",
    "**Data Science:** The highest average of level 3 performance is in data science department. Data science is the only department where less number of level 2 performers. The overall performance is higher compared to all departments. Male employees are doing good in this department.\n",
    "\n",
    "**Research & Development:** The age factor is not deviating from the level of performance here where different employees with different age are there in every level of performance. The R&D has the good female employees in their performance.\n",
    "\n",
    "**Finance:** The finance department performance is exponentially decreasing when age increases. The male employees are doing good. The experience factor is inversely relating to the performance level."
   ]
  },
  {
   "cell_type": "markdown",
   "id": "8717244b-8714-4177-b84b-f67c0a9d25e1",
   "metadata": {},
   "source": [
    "# Goal 2: Top 3 Important Factors effecting employee performance"
   ]
  },
  {
   "cell_type": "markdown",
   "id": "83e7fcc8-4dbd-4538-81ae-9c3251d4e418",
   "metadata": {},
   "source": [
    "The top three important features affecting the performance rating are ordered with their importance level as follows,\n",
    "\n",
    "**1.Employment Environment Satisfaction**\n",
    "\n",
    "**2.Employee Salary Hike Percentage**\n",
    "\n",
    "**3.Experience Years In CurrentRole**\n",
    "\n",
    "-> Employee Enviroment satisfaction: Maximum Number of Employees Performance Rating belongs to EmpEnvironmentSatisfaction Level 3 & Level 4, It contains 367 & 361.\n",
    "\n",
    "->Employee last salary hike percent: More Number of Employees whose salary hike percentage belongs to 11-19 % are getting 2 & 3 performance rating        Maximum time. as well asEmployees whose salary hike percentage is in between 20-22%, There performance rating is 4.\n",
    "\n",
    "->Employee work life balance: In EmpWorkLifeBalance, level 3 is showing high Performance Rating of employees"
   ]
  },
  {
   "cell_type": "markdown",
   "id": "f79e5a24-68e0-44ee-8e55-254cf8913548",
   "metadata": {},
   "source": [
    "# Goal 3: A Trained model which can predict the employee performance"
   ]
  },
  {
   "cell_type": "markdown",
   "id": "0be7a609-2de0-4d74-a29e-ecb3c007f069",
   "metadata": {},
   "source": [
    "The trained model is created using the machine learning algorithm as follows with the accuracy score,\n",
    "\n",
    "**1.Support Vector Classifier: 97.33% accuracy**\n",
    "**2.random Forest :95.61**\n",
    "**3.Artifical Neural Network [Multilayer percepton]: 95.80% 3.Random Forest classifier: 96.19% accuracy**\n",
    "\n",
    "\n",
    "Support vector machine well perform on training data with accuracy96.66% but the test score is 95.04% after applying Hyperparameter tunning score is 97.33% means model is overfit.\n",
    "\n",
    "Random forest very well perform in training data with 100% accuracy but in testing 95.80% after doing hyperparameter tunning testing score is decreases to 95.61.\n",
    "\n",
    "Artifical neural network[Multilayer percepton] perform very well on training data with 99.28% accuracy and testing score is 9619% .\n",
    "So we are select Artifical neural network [Multilayer percepton] model."
   ]
  },
  {
   "cell_type": "markdown",
   "id": "c3f21645-114c-47f4-90be-a9011db260f5",
   "metadata": {},
   "source": [
    "# Goal 4: Recommendations to improve the employee performance"
   ]
  },
  {
   "cell_type": "markdown",
   "id": "81d04b2a-dc37-4408-80ac-29d707560772",
   "metadata": {},
   "source": [
    "**1.Enhance Employee Environment Satisfaction –** A positive work environment significantly impacts overall employee performance. The company should prioritize initiatives that improve workplace conditions and employee well-being.\n",
    "\n",
    "**2.Increase Salary Hikes for Motivation –** Competitive salary increments serve as a strong incentive for employees to enhance their performance and remain engaged in their roles.\n",
    "\n",
    "**3.Consider Frequent Promotions –** Implementing a structured promotion cycle, such as every six months, can boost employee motivation and retention while encouraging high performance.\n",
    "\n",
    "**4.Improve Work-Life Balance –** A well-balanced work-life environment positively influences employee productivity and job satisfaction, ultimately improving performance ratings.\n",
    "\n",
    "**5.Encourage Gender Diversity in HR Hiring –** Data analysis suggests that female candidates tend to perform well in HR roles. The company should focus on gender diversity in recruitment for better outcomes.\n",
    "\n",
    "**6.Focus on High-Performing Departments & Employee Satisfaction –** The Development and Sales departments exhibit higher overall performance compared to others. Additionally, employees who report Low or Medium satisfaction in Job Satisfaction & Relationship Satisfaction often deliver excellent performance. The company should focus on supporting and retaining such employees to maintain high performance levels."
   ]
  },
  {
   "cell_type": "code",
   "execution_count": null,
   "id": "3f33bfb7-ccd3-4882-bede-f67b5304998a",
   "metadata": {},
   "outputs": [],
   "source": []
  }
 ],
 "metadata": {
  "kernelspec": {
   "display_name": "Python 3 (ipykernel)",
   "language": "python",
   "name": "python3"
  },
  "language_info": {
   "codemirror_mode": {
    "name": "ipython",
    "version": 3
   },
   "file_extension": ".py",
   "mimetype": "text/x-python",
   "name": "python",
   "nbconvert_exporter": "python",
   "pygments_lexer": "ipython3",
   "version": "3.12.3"
  }
 },
 "nbformat": 4,
 "nbformat_minor": 5
}
