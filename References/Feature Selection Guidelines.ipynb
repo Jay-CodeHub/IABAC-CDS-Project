{
 "cells": [
  {
   "cell_type": "markdown",
   "id": "b3a3441d-56a4-4773-bab0-bc032b6aec09",
   "metadata": {},
   "source": [
    "# 🛠️ Feature Selection Guidelines\n",
    "\n",
    "## **1️⃣ Drop Unique and Constant Features**\n",
    "- **Dropped `EmployeeNumber`**:  \n",
    "  - This is a unique identifier and does not contribute to predictions.  \n",
    "- **Dropped `YearsSinceLastPromotion`**:  \n",
    "  - This feature was removed because a new transformed feature was created using **Square Root Transformation**.\n",
    "\n",
    "---\n",
    "\n",
    "## **2️⃣ Checking Correlation**\n",
    "- Used a **heatmap** to check for highly correlated features.  \n",
    "- **No highly correlated features were found**, so no additional features were dropped.  \n",
    "\n",
    "### **📌 Heatmap Explanation**\n",
    "- A **heatmap** is a graphical representation of data where different values are represented by varying colors.\n",
    "- It helps in identifying **feature relationships** and potential multicollinearity.\n",
    "\n",
    "---\n",
    "\n",
    "## **3️⃣ Checking for Duplicates**\n",
    "- **No duplicate records** were found in the dataset.\n",
    "\n",
    "---\n",
    "\n",
    "## **4️⃣ Principal Component Analysis (PCA)**\n",
    "- **PCA was applied to reduce dimensionality**.  \n",
    "- **Original feature count:** 27 (after dropping unique and constant features).  \n",
    "- **PCA Results:**  \n",
    "  - **25 features were retained** as they had minimal variance loss.  \n",
    "  - **2 features were dropped** as they contributed very little to the overall variance.  \n",
    "\n",
    "### **📌 What is PCA?**\n",
    "- **Principal Component Analysis (PCA)** is a technique used to reduce the number of features in a dataset.  \n",
    "- It **preserves the maximum amount of information** while making the data easier to interpret.  \n",
    "- Helps in **reducing overfitting** and **improving model performance**.\n",
    "\n",
    "---\n",
    "\n",
    "## **5️⃣ Saving Pre-Processed Data**\n",
    "- After applying **feature selection**, the processed dataset was saved in a new file.  \n",
    "- The **target feature** (`Attrition`) was added back to the final dataset.  \n",
    "\n",
    "---\n",
    "\n",
    "### ✅ **Summary**\n",
    "✔ **Dropped unnecessary unique and constant features**.  \n",
    "✔ **Checked correlation using a heatmap** and found **no high correlations**.  \n",
    "✔ **Confirmed no duplicate records** in the dataset.  \n",
    "✔ **Applied PCA** to reduce dimensions while retaining **important features**.  \n",
    "✔ **Saved the final pre-processed dataset** for model training.  \n",
    "\n"
   ]
  }
 ],
 "metadata": {
  "kernelspec": {
   "display_name": "Python 3 (ipykernel)",
   "language": "python",
   "name": "python3"
  },
  "language_info": {
   "codemirror_mode": {
    "name": "ipython",
    "version": 3
   },
   "file_extension": ".py",
   "mimetype": "text/x-python",
   "name": "python",
   "nbconvert_exporter": "python",
   "pygments_lexer": "ipython3",
   "version": "3.12.3"
  }
 },
 "nbformat": 4,
 "nbformat_minor": 5
}
